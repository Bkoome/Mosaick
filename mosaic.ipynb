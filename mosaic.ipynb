{
  "nbformat": 4,
  "nbformat_minor": 0,
  "metadata": {
    "colab": {
      "provenance": [],
      "mount_file_id": "1vH-ELFLSYzGoX9UR_1HESjgu9Sj4bf0f",
      "authorship_tag": "ABX9TyPxk4Fk+2PtDAkMgBQZEO9t",
      "include_colab_link": true
    },
    "kernelspec": {
      "name": "python3",
      "display_name": "Python 3"
    },
    "language_info": {
      "name": "python"
    }
  },
  "cells": [
    {
      "cell_type": "markdown",
      "metadata": {
        "id": "view-in-github",
        "colab_type": "text"
      },
      "source": [
        "<a href=\"https://colab.research.google.com/github/Bkoome/Mosaick/blob/main/mosaic.ipynb\" target=\"_parent\"><img src=\"https://colab.research.google.com/assets/colab-badge.svg\" alt=\"Open In Colab\"/></a>"
      ]
    },
    {
      "cell_type": "code",
      "execution_count": null,
      "metadata": {
        "id": "oQheg8XZCyxR"
      },
      "outputs": [],
      "source": [
        "import tensorflow as tf\n",
        "import matplotlib.pyplot as plt\n",
        "import numpy as np\n",
        "import os"
      ]
    },
    {
      "cell_type": "code",
      "source": [
        "import os\n",
        "import zipfile\n",
        "import tensorflow as tf\n",
        "import numpy as np\n",
        "import matplotlib.pyplot as plt\n",
        "\n",
        "# Path to the ZIP file containing the image(s)\n",
        "zip_file_path = \"/content/drive/MyDrive/Potato/VIAZI/xn2wy75f8m-1.zip\"\n",
        "\n",
        "# Extracting the ZIP file to a temporary directory\n",
        "import tempfile\n",
        "extracted_dir = tempfile.TemporaryDirectory()\n",
        "with zipfile.ZipFile(zip_file_path, 'r') as zip_ref:\n",
        "    zip_ref.extractall(extracted_dir.name)\n",
        "\n",
        "# List the files in the extracted directory\n",
        "extracted_files = os.listdir(extracted_dir.name)\n",
        "\n",
        "# Find the first image file in the extracted directory\n",
        "image_path = None\n",
        "for file in extracted_files:\n",
        "    if file.lower().endswith((\".jpg\", \".jpeg\", \".png\", \".gif\", \".bmp\")):\n",
        "        image_path = os.path.join(extracted_dir.name, file)\n",
        "        break\n",
        "\n",
        "if image_path:\n",
        "    # Loading and preprocess the image\n",
        "    def load_and_preprocess_image(image_path):\n",
        "        image = tf.io.read_file(image_path)\n",
        "        image = tf.image.decode_image(image, channels=3)\n",
        "        image = tf.image.resize(image, (256, 256))  # Resize to match your model's input size\n",
        "        image = tf.cast(image, tf.float32) / 255.0  # Normalize pixel values\n",
        "        return image\n",
        "\n",
        "    input_image = load_and_preprocess_image(image_path)\n",
        "    input_image = tf.expand_dims(input_image, axis=0)  # Add a batch dimension\n",
        "\n",
        "    # Loading the model\n",
        "    model = tf.keras.models.load_model(\"/content/drive/MyDrive/Potato/new_model_1\")\n",
        "\n",
        "    # predictions\n",
        "    predictions = model.predict(input_image)\n",
        "\n",
        "    class_names = [\"Potato___Early_blight\", \"Potato___Late_blight\", \"Potato___healthy\"]\n",
        "    predicted_class = class_names[np.argmax(predictions[0])]\n",
        "\n",
        "    confidence = round(100 * np.max(predictions[0]), 2)\n",
        "\n",
        "    # Display the image with predicted label and confidence\n",
        "    plt.figure(figsize=(8, 8))\n",
        "    plt.imshow(tf.image.decode_image(tf.io.read_file(image_path), channels=3).numpy().astype(\"uint8\"))\n",
        "    plt.title(f\"Predicted: {predicted_class}\\nConfidence: {confidence}%\")\n",
        "    plt.axis(\"off\")\n",
        "    plt.show()\n",
        "else:\n",
        "    print(\"No valid image files found in the ZIP file.\")\n"
      ],
      "metadata": {
        "colab": {
          "base_uri": "https://localhost:8080/"
        },
        "id": "JNyxhPW3C3_A",
        "outputId": "730ec13d-e510-49ef-d1b1-011715bf155a"
      },
      "execution_count": 10,
      "outputs": [
        {
          "output_type": "stream",
          "name": "stdout",
          "text": [
            "No valid image files found in the ZIP file.\n"
          ]
        }
      ]
    },
    {
      "cell_type": "code",
      "source": [],
      "metadata": {
        "id": "pmP85BHGEopZ"
      },
      "execution_count": null,
      "outputs": []
    }
  ]
}